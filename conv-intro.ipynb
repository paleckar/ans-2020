{
 "cells": [
  {
   "cell_type": "markdown",
   "metadata": {},
   "source": [
    "# Úvod do konvoluce"
   ]
  },
  {
   "cell_type": "code",
   "execution_count": null,
   "metadata": {},
   "outputs": [],
   "source": [
    "%load_ext autoreload\n",
    "%autoreload 2"
   ]
  },
  {
   "cell_type": "code",
   "execution_count": null,
   "metadata": {},
   "outputs": [],
   "source": [
    "import numpy as np\n",
    "import matplotlib.pyplot as plt\n",
    "from skimage.io import imread\n",
    "from skimage.color import rgb2gray\n",
    "\n",
    "import ans"
   ]
  },
  {
   "cell_type": "code",
   "execution_count": null,
   "metadata": {},
   "outputs": [],
   "source": [
    "plt.rcParams['figure.figsize'] = (12., 8.)\n",
    "plt.rcParams['image.interpolation'] = 'nearest'\n",
    "plt.rcParams['image.cmap'] = 'gray'"
   ]
  },
  {
   "cell_type": "markdown",
   "metadata": {},
   "source": [
    "## Testovací obrázek a filtry"
   ]
  },
  {
   "cell_type": "markdown",
   "metadata": {},
   "source": [
    "Nejprve si načteme nějaký testovací obrázek. Funkce `imread` z knihovny skimage vrátí barevný RGB obrázek jako numpy `ndarray` s rozměry *výška x šířka x kanály* s datovým typem `uint8`. Obrázek dále převedeme do šedi a vydělíme 255 kvůli převedení do rozsahu 0...1 a přetypování na Python `float`, aby nedocházelo k přetékání."
   ]
  },
  {
   "cell_type": "code",
   "execution_count": null,
   "metadata": {},
   "outputs": [],
   "source": [
    "rgb_test = imread('./data/happy-green-frog.jpg') / 255.\n",
    "rgb_test.dtype, rgb_test.shape"
   ]
  },
  {
   "cell_type": "code",
   "execution_count": null,
   "metadata": {},
   "outputs": [],
   "source": [
    "gray_test = rgb2gray(rgb_test)\n",
    "gray_test.dtype, gray_test.shape"
   ]
  },
  {
   "cell_type": "code",
   "execution_count": null,
   "metadata": {},
   "outputs": [],
   "source": [
    "plt.subplot(1, 2, 1)\n",
    "plt.imshow(rgb_test)\n",
    "plt.subplot(1, 2, 2)\n",
    "plt.imshow(gray_test)\n",
    "plt.show()"
   ]
  },
  {
   "cell_type": "markdown",
   "metadata": {},
   "source": [
    "Konvoluce má dva operandy: zdrojový signál (orbázek) a jádro (kernel) konvoluce, často označované také jako konvoluční filtr. Oba operandy si musí odpovídat svými rozměry. Pokud budeme uvažovat šedotónový obrázek reprezentovaný 2D maticí, filtr bude rovněž matice. RGB obrázky reprezentované 3D maticí $H × W × C$ (pro RGB platí $C=3$) budou konvolvovány s 3D filtrem o rozměrech $K × L × C$.\n",
    "\n",
    "Filtry si tentokrát vytvoříme jako numpy `ndarray`, abychom mohli vyzkoušet klasickou konvoluci v knihovnách scipy a OpenCV."
   ]
  },
  {
   "cell_type": "code",
   "execution_count": null,
   "metadata": {},
   "outputs": [],
   "source": [
    "# Sobeluv filtr v horizontalnim smeru (detekuje vertikalni hrany)\n",
    "W_sobel_x = np.array([\n",
    "    [1, 0, -1],\n",
    "    [2, 0, -2],\n",
    "    [1, 0, -1],\n",
    "], dtype=np.float)\n",
    "\n",
    "# Sobeluv filtr ve vertikalnim smeru (detekuje horizontalni hrany)\n",
    "W_sobel_y = np.array([\n",
    "    [ 1,  2,  1],\n",
    "    [ 0,  0,  0],\n",
    "    [-1, -2, -1],\n",
    "], dtype=np.float)\n",
    "\n",
    "# prumerovaci filtr 9x9\n",
    "W_blur = 1. / 81. * np.ones((9, 9))"
   ]
  },
  {
   "cell_type": "markdown",
   "metadata": {},
   "source": [
    "## Dvourozměrná konvoluce ve scipy: 2D vstup, 2D filtr"
   ]
  },
  {
   "cell_type": "markdown",
   "metadata": {},
   "source": [
    "Konvoluce v modulu `scipy.signal` bohužel zvládá pouze čistě 2D konvoluci, tzn. že jak obrázek, tak filtr musí být dvourozměrné matice. RGB obrázky nejsou podporovány a konvoluce tak musí být provedena pro každý kanál zvlášť. To zní jako příliš práce, a tak si zde ukážeme pouze podporovanou variantu."
   ]
  },
  {
   "cell_type": "code",
   "execution_count": null,
   "metadata": {},
   "outputs": [],
   "source": [
    "from scipy import signal"
   ]
  },
  {
   "cell_type": "markdown",
   "metadata": {},
   "source": [
    "Následující kód projede všechny filtry, provede jejich konvoluci se vstupním obrázkem a výsledek zobrazí.\n",
    "\n",
    "Konvoluce pomocí funkce `convolve2d` podobně jako její ekvivalent v MATLABu `conv2` umožňuje nastavit velikost oblasti výpočtu konvoluce. Chování určuje parametr `mode`:\n",
    "\n",
    "  - `mode='full'`: filtr se svým středem posouvá přes celý vstupní obrázek i nastavené hodnoty (padding), kdykoliv se filtr \"dotýká\" vstupu třeba jen jedním pixelem $\\rightarrow$ výstup je prostorově větší než vstup\n",
    "  - `mode='same'`: filtr se svým středem příkládá na všechny pixely vstupu tak, aby výsledek konvoluce měl stejný rozměr jako vstup\n",
    "  - `mode='valid'`: filtr se přikládá na obrázek pouze tehdy, pokud \"nepřečuhuje\" a výsledek je tedy menší než vstup\n",
    "\n",
    "Pokud filtr \"přečuhuje\" mimo obrázek, chybějící hodnoty vstupu se doplní typicky nulami (padding). Způsob doplnění lze nastavit argumenty `boundary` a `fillvalue`."
   ]
  },
  {
   "cell_type": "code",
   "execution_count": null,
   "metadata": {},
   "outputs": [],
   "source": [
    "for i, kernel in enumerate((None, W_sobel_x, W_sobel_y, W_blur)):\n",
    "    if kernel is None:\n",
    "        # neni filtr --> neprovadej konvoluci = zobrazi se nezmeneny obrazek\n",
    "        output = gray_test.copy()\n",
    "    else:\n",
    "        # `mode='same'` --> vystup bude mit stejny rozmer jako vstup\n",
    "        # `boundary='fill', fillvalue=0.` --> tzv. zero padding, tj. nastavi obrazek nulami\n",
    "        output = signal.convolve2d(gray_test, kernel, mode='same', boundary='fill', fillvalue=0.)\n",
    "    \n",
    "    plt.subplot(2, 2, i + 1)\n",
    "    plt.imshow(output)\n",
    "plt.show()"
   ]
  },
  {
   "cell_type": "markdown",
   "metadata": {},
   "source": [
    "Ověřme si rozměry vstupu a výstupu:"
   ]
  },
  {
   "cell_type": "code",
   "execution_count": null,
   "metadata": {
    "scrolled": true
   },
   "outputs": [],
   "source": [
    "print(gray_test.shape)\n",
    "print(output.shape)"
   ]
  },
  {
   "cell_type": "markdown",
   "metadata": {},
   "source": [
    "## Dvourozměrná konvoluce v OpenCV: 3D vstup, 2D filtr"
   ]
  },
  {
   "cell_type": "markdown",
   "metadata": {},
   "source": [
    "OpenCV je populární knihovna pro zpracování obrazu a počítačové vidění. Je vyvíjená již 15 let a obsahuje velké množství algoritmů např. pro geometrické a jasové transformace obrázků, detekci a rozpoznávání objektů či stereo-vidění a 3D rekonstrukci. Kromě C++, ve kterém je napsaná, nabízí wrappery i pro další jazyky, mezi nimi i Python."
   ]
  },
  {
   "cell_type": "code",
   "execution_count": null,
   "metadata": {},
   "outputs": [],
   "source": [
    "import cv2"
   ]
  },
  {
   "cell_type": "markdown",
   "metadata": {},
   "source": [
    "OpenCV implementuje 2D konvoluci funkcí `cv2.filter2D`, která na rozdíl od `scipy.signal.convolve2d` podporuje i RGB obrázky. Pokud jako vstup zadáme RGB obrázek, tedy **3D** matici, a **2D** filtr, stane se přesně to, co bychom při použití `scipy.signal.convolve2d` museli dělat ručně, tj. **konvoluce se provede pro každý kanál zvlášť**. Výstupem tedy bude opět barevný obrázek (všimněme si barev u výsledných hranových obrázků po spuštění následující buňky).\n",
    "\n",
    "OpenCV neumožňuje volit velikost výstupu a vždy zachovává rozměry vstupu. Funguje tedy v režimu \"valid\". Hodnoty paddingu lze měnit parametry `delta` a `borderType`, přičemž ve výchozím stavu OpenCV nastavuje nikoliv nulami, nýbrž rozšiřuje obrázek o hodnoty na okraji obrazu. Nastavení nulami lze zajistit parametry `delta=0` a `borderType=cv2.BORDER_CONSTANT`.\n",
    "\n",
    "Pozn.: matplotlib očekává, že RGB obrázky budou buď typu `uint8` s rozsahem 0..255, nebo `float` v intervalu 0..1. Nám operací vznikne `float`, jenž může a v případě Sobelových filtrů i bude obsahovat záporné hodnoty. Před zobrazením tedy výstup normalizujeme do rozsahu 0..1."
   ]
  },
  {
   "cell_type": "code",
   "execution_count": null,
   "metadata": {},
   "outputs": [],
   "source": [
    "for i, kernel in enumerate((None, W_sobel_x, W_sobel_y, W_blur)):\n",
    "    if kernel is None:\n",
    "        # neni filtr --> neprovadej konvoluci = zobrazi se nezmeneny obrazek\n",
    "        output = rgb_test.copy()\n",
    "    else:\n",
    "        # defaultne ma vystup z `cv2.filter2D` stejne rozmery jako vstup\n",
    "        output = cv2.filter2D(rgb_test, -1, kernel, delta=0, borderType=cv2.BORDER_CONSTANT)\n",
    "    \n",
    "    plt.subplot(2, 2, i + 1)\n",
    "    plt.imshow((output - output.min()) / (output.max() - output.min() + 1e-6))\n",
    "plt.show()"
   ]
  },
  {
   "cell_type": "markdown",
   "metadata": {},
   "source": [
    "Opět zkontrolujeme velikost výstupu:"
   ]
  },
  {
   "cell_type": "code",
   "execution_count": null,
   "metadata": {},
   "outputs": [],
   "source": [
    "print(rgb_test.shape)\n",
    "print(output.shape)"
   ]
  },
  {
   "cell_type": "markdown",
   "metadata": {},
   "source": [
    "## Dvourozměrná konvoluce v PyTorch: 2D vstup, 2D filtr"
   ]
  },
  {
   "cell_type": "code",
   "execution_count": null,
   "metadata": {},
   "outputs": [],
   "source": [
    "import torch\n",
    "import torchvision\n",
    "import torch.nn.functional as F"
   ]
  },
  {
   "cell_type": "markdown",
   "metadata": {},
   "source": [
    "Konvoluce v PyTorch je o něco obtížnější, protože framework je primárně určen pro učení neuronových sítí, ne k práci s obrázky. Vše je uzpůsobeno pro trénování metodou minibatch SGD, což znamená, že PyTorch očekává 4D vstup formátu *dávka x kanály x výška x šířka*. Pokud tedy chceme provést konvoluci s šedotónovým 2D obrázkem `gray_test`, musíme přidat dvě dimenze navíc. Kromě toho funkce pracují nad PyTorch tensory, nikoliv numpy poli, a je tedy nutná i konverze.\n",
    "\n",
    "Pozn.: přidat dimenzi v numpy lze více způsoby, nejjednodušší je indexace s `None`, které se chová jako `np.newaxis`. Lze však využít i např. funkce `reshape`, [`expand_dims`](https://docs.scipy.org/doc/numpy/reference/generated/numpy.expand_dims.html), nebo přidat dimenzi až po konverzi do PyTorch tensoru."
   ]
  },
  {
   "cell_type": "code",
   "execution_count": null,
   "metadata": {},
   "outputs": [],
   "source": [
    "inputs = torch.from_numpy(gray_test[None, None])\n",
    "inputs.dtype, inputs.shape"
   ]
  },
  {
   "cell_type": "markdown",
   "metadata": {},
   "source": [
    "S filtrem je to také obtížnější. Ten musí být formátu *výstupní\\_kanály x vstupní\\_kanály x filtr\\_výška x filtr\\_šířka*."
   ]
  },
  {
   "cell_type": "code",
   "execution_count": null,
   "metadata": {},
   "outputs": [],
   "source": [
    "weights = torch.from_numpy(W_sobel_x[None, None])\n",
    "weights.dtype, weights.shape"
   ]
  },
  {
   "cell_type": "markdown",
   "metadata": {},
   "source": [
    "PyTorch definuje většinu operací v modulu `torch.nn.functional`, které pak obaluje vrstvami definovanými v modulu `torch.nn`. Pokud nechceme vytvářet vrstvu, ale pouze provést konvoluci nějakého vstupu a nějakého filtru, zavoláme funkci `conv2d`."
   ]
  },
  {
   "cell_type": "code",
   "execution_count": null,
   "metadata": {},
   "outputs": [],
   "source": [
    "# padding=1 --> hodnota 1 je zaokrouhlena polovina velikosti filtru --> zachova se velikost vstupu\n",
    "outputs = F.conv2d(inputs, weights, padding=1)"
   ]
  },
  {
   "cell_type": "code",
   "execution_count": null,
   "metadata": {},
   "outputs": [],
   "source": [
    "print(inputs.shape)\n",
    "print(outputs.shape)"
   ]
  },
  {
   "cell_type": "markdown",
   "metadata": {},
   "source": [
    "Před zobrazením musíme převést zpět do numpy."
   ]
  },
  {
   "cell_type": "code",
   "execution_count": null,
   "metadata": {},
   "outputs": [],
   "source": [
    "plt.subplot(1, 2, 1)\n",
    "plt.imshow(gray_test)\n",
    "plt.subplot(1, 2, 2)\n",
    "plt.imshow(outputs.data.numpy()[0, 0, :, :])\n",
    "plt.show()"
   ]
  },
  {
   "cell_type": "markdown",
   "metadata": {},
   "source": [
    "## Dvourozměrná konvoluce v PyTorch: 3D vstup, 3D filtr (barevný RGB obrázek)"
   ]
  },
  {
   "cell_type": "markdown",
   "metadata": {},
   "source": [
    "Vyzkoušíme si i 2D konvoluci RGB obrázku, která se chová jinak, než co jsme doposud zkoušeli. V PyTorch je 2D konvouce vícekanálových obrázků v podstatě 3D konvoluce s filtrem, který má v třetím rozměru odpovídajícímu kanálům stejnou velikost jako vstup (zatímco v $xy$ je např. $3×3$, přičemž obrázek např. $640×480$). Tedy např. pokud má obrázek 3 kanály, pak i filtr musí mít 3 kanály. Jedná se proto o jiný případ než konvoluce v OpenCV, kde byl vstup 3D, filtr 2D a konvoluce se provedla zvlášť po jednotlivých kanálech.\n",
    "\n",
    "Vstup tentokrát bude RGB, tedy 3D. Jak jsme si mohli všimnout výše, v PyTorch je RGB obrázek reprezentován ve formátu *kanály x výška x šířka*, tj. s **kanály jako první dimenzí!** Formát je tedy opačný oproti běžně používaným knihovnám jako OpenCV nebo skimage (scipy). Před konvolucí proto přeházíme dimenze funkcí `transpose`, která přejímá jako argumenty indexy jednotlivých dimenzí tak, jak mají nově jít za sebou."
   ]
  },
  {
   "cell_type": "code",
   "execution_count": null,
   "metadata": {},
   "outputs": [],
   "source": [
    "inputs = rgb_test.transpose(2, 0, 1)\n",
    "inputs = torch.from_numpy(inputs[None])\n",
    "inputs.shape"
   ]
  },
  {
   "cell_type": "markdown",
   "metadata": {},
   "source": [
    "Pokud je vstup RGB, tedy 3D, pak i filtr musí být 3D.\n",
    "\n",
    "Pozn.: Tensor obrázku `inputs` je technicky 4D, kde první dimenze je batch indexující jednotlivé obrázky. Podobně je tomu tak u tensoru filtru `weights`, který je rovněž 4D s tím, že první dimenze indexuje samotné filtry, pokud bychom chteli provádět konvoluci s více filtry najednou (více dále)."
   ]
  },
  {
   "cell_type": "code",
   "execution_count": null,
   "metadata": {},
   "outputs": [],
   "source": [
    "weights = np.stack((W_sobel_x, W_sobel_x, W_sobel_x))[None]\n",
    "weights = torch.from_numpy(weights)\n",
    "weights.shape"
   ]
  },
  {
   "cell_type": "code",
   "execution_count": null,
   "metadata": {},
   "outputs": [],
   "source": [
    "# padding=1 --> hodnota 1 je zaokrouhlena polovina velikosti filtru --> zachova se velikost vstupu\n",
    "outputs = F.conv2d(inputs, weights, padding=1)"
   ]
  },
  {
   "cell_type": "code",
   "execution_count": null,
   "metadata": {},
   "outputs": [],
   "source": [
    "print(inputs.shape)\n",
    "print(outputs.shape)"
   ]
  },
  {
   "cell_type": "markdown",
   "metadata": {},
   "source": [
    "Všimněme si, že výstup má pouze jeden kanál! To proto, že nedochází k sumaci pouze v $x$ a $y$, ale i v kanálech. A jelikož počet výstupních kanálů odpovídá počtu použitých filtrů a my provádíme konvoluci pouze jedním (byť 3D) Sobelovým filtrem, výstup má pouze jeden kanál."
   ]
  },
  {
   "cell_type": "code",
   "execution_count": null,
   "metadata": {},
   "outputs": [],
   "source": [
    "plt.subplot(1, 2, 1)\n",
    "plt.imshow(gray_test)\n",
    "plt.subplot(1, 2, 2)\n",
    "plt.imshow(outputs.numpy()[0, 0, :, :])\n",
    "plt.show()"
   ]
  },
  {
   "cell_type": "markdown",
   "metadata": {},
   "source": [
    "## Konvoluce po jednotlivých kanálech"
   ]
  },
  {
   "cell_type": "markdown",
   "metadata": {},
   "source": [
    "Jako cvičení k pochopení konvoluce nyní máte za úkol napodobit chování OpenCV, tj. **udělat konvoluci RGB obrázku po jednotlivých kanálech** pomocí PyTorch funkce `conv2d` s filtrem `W_sobel_x` jako v sekci [Konvoluce v OpenCV: 3D vstup, 2D filtr](#Dvourozměrná-konvoluce-v-OpenCV:-3D-vstup,-2D-filtr). Můžete použít `for` cyklus. Stačí pouze `W_sobel_x`, tj. výstupem bude jediný barevný hranový obrázek `output` s rozměry a datovým typem stejnými jako `rgb_test`."
   ]
  },
  {
   "cell_type": "code",
   "execution_count": null,
   "metadata": {},
   "outputs": [],
   "source": [
    "target = cv2.filter2D(rgb_test, -1, W_sobel_x, delta=0, borderType=cv2.BORDER_CONSTANT)\n",
    "target.dtype, target.shape"
   ]
  },
  {
   "cell_type": "code",
   "execution_count": null,
   "metadata": {},
   "outputs": [],
   "source": [
    "#################################################################\n",
    "# ZDE DOPLNIT\n",
    "\n",
    "\n",
    "    \n",
    "#################################################################"
   ]
  },
  {
   "cell_type": "markdown",
   "metadata": {},
   "source": [
    "Rozdíl mezi výsledkem (`output`) a konvolucí v OpenCV (`target`) musí být nula!"
   ]
  },
  {
   "cell_type": "code",
   "execution_count": null,
   "metadata": {},
   "outputs": [],
   "source": [
    "print('Rozdil: ' + str(np.sum(np.abs(target - output))))"
   ]
  },
  {
   "cell_type": "code",
   "execution_count": null,
   "metadata": {},
   "outputs": [],
   "source": [
    "plt.subplot(1, 2, 1)\n",
    "plt.imshow((target - target.min()) / (target.max() - target.min() + 1e-6))\n",
    "plt.subplot(1, 2, 2)\n",
    "plt.imshow((output - output.min()) / (output.max() - output.min() + 1e-6))\n",
    "plt.show()"
   ]
  },
  {
   "cell_type": "markdown",
   "metadata": {},
   "source": [
    "## Konvoluce s více filtry najednou\n",
    "\n",
    "Druhé cvičení bude zreplikovat v PyTorch pokus, který jsme provedli se `scipy.signal.convolve2d`. **Proveďte tedy konvoluci vstupního šedotónového 2D obrázku se všemi čtyřmi (None, W_sobel_x, W_sobel_y, W_blur) filtry najednou!** Ano, i `None` filtr (tedy bez filtrace) zapište v maticové podobě. Omezení samozřejmě je, že všechny filtry musí být stejně velké, a tedy i průměrovací filtr musí být 3x3 a nestačí tak pouze vzít matici `W_blur`.\n",
    "\n",
    "Nesmíte použít žádný `for` cyklus! Postup:\n",
    "1. vytvoříte vstup `inputs`,\n",
    "2. vytvoříte matici filtrů `weights`,\n",
    "3. zavoláte `outputs = F.conv2d(...)`,\n",
    "4. převedete do numpy,\n",
    "5. a zobrazíte jednotlivé kanály subplotem jako obvykle\n",
    "\n",
    "Výsledkem bude proměnná s názvem `outputs`: numpy `ndarray` typu `double` (`np.float64`) s rozměry *4 x výška x šířka*."
   ]
  },
  {
   "cell_type": "code",
   "execution_count": null,
   "metadata": {},
   "outputs": [],
   "source": [
    "#################################################################\n",
    "# ZDE DOPLNIT\n",
    "\n",
    "\n",
    "\n",
    "#################################################################"
   ]
  },
  {
   "cell_type": "markdown",
   "metadata": {},
   "source": [
    "Vykreslení:"
   ]
  },
  {
   "cell_type": "code",
   "execution_count": null,
   "metadata": {},
   "outputs": [],
   "source": [
    "for i, chnl in enumerate(outputs):\n",
    "    plt.subplot(2, 2, i + 1)\n",
    "    plt.imshow((chnl - chnl.min()) / (chnl.max() - chnl.min() + 1e-6))\n",
    "plt.show()"
   ]
  },
  {
   "cell_type": "markdown",
   "metadata": {},
   "source": [
    "## Konvoluce jako vrstva"
   ]
  },
  {
   "cell_type": "markdown",
   "metadata": {},
   "source": [
    "Pomocí `F.conv2d` pro dopředný průchod a `F.conv_transpose2d` pro zpětný průchod odvoďte vlastní konvoluční vrstvu typu `ans.Layer`, kterou bude možné použít v trénovacím procesu z minulého cvíčení [multilayer-perceptron-lab](multilayer-perceptron-lab.ipynb). Pro zjednodušení uvažujte pouze jednotkový krok (stride) a padding takový, aby zachovával velikost vstupu.\n",
    "\n",
    "**Dopředný průchod**\n",
    "\n",
    "Výsledek pro pixel na pozici $(u, v)$ $g$-tého kanálu je\n",
    "$$z_{guv} = \\sum_{i=1}^{K}\\sum_{j=1}^{K}\\sum_{c=1}^{C}{w_{gcij} x_{c,u+i,v+j}}$$\n",
    "Ve vzorci uvažujeme\n",
    "- $x$ ... vstup s rozměry $C × M × L$, kde $C$ je počet kanálů a $M × L$ je rozlišení (řádky x sloupce)\n",
    "- $w$ ... tensor vah konv. filtrů s rozměry $G × C × K × K$, kde $G$ je počet filtrů a $K$ jejich velikost\n",
    "- $z$ ... výstupní tensor s rozměry $G × U × V$, kde $U × V$ je výstupní rozlišení (v úloze uvažujeme $U = M$ a $V = L$)\n",
    "\n",
    "Vzorec platí pro jeden obrázek v dávce a v kódu bude mít vstup $x$ o jeden rozměr víc (index v dávce). Vše implementuje automaticky funkce `F.conv2d` knihovny PyTorch.\n",
    "\n",
    "**Zpětný průchod**\n",
    "\n",
    "Gradient na **vstup** je transponovaná konvoluce příchozího gradientu ${\\partial L} / {\\partial z_{uv}}$ s vahami filtru $w$. Operaci implementuje PyTorch funkce `F.conv_transpose2d`.\n",
    "\n",
    "Gradient na **váhy** je\n",
    "$$\\frac{\\partial L}{\\partial w_{gcij}} = \\sum_{u=1}^{U}\\sum_{v=1}^{V}{\\frac{\\partial L}{\\partial z_{guv}}x_{c,i+u,j+v}}$$\n",
    "kde rozměr příchozího gradientu je totožný s rozměrem výstupu $z$ dopředného kroku. Vzorec opět platí pouze pro jeden pár vstup-výstup! Gradient pro celou dávku bude jednoduše součet dílčích gradientů.\n",
    "\n"
   ]
  },
  {
   "cell_type": "code",
   "execution_count": null,
   "metadata": {},
   "outputs": [],
   "source": [
    "class Conv2D(ans.Layer):\n",
    "    \n",
    "    def __init__(self, in_channels, out_channels, kernel_size, weight_scale=1e-3):\n",
    "        super().__init__()\n",
    "        \n",
    "        self.pad = kernel_size // 2\n",
    "        \n",
    "        self.params = {\n",
    "            'weights': weight_scale * torch.randn(out_channels, in_channels, kernel_size, kernel_size)\n",
    "        }\n",
    "    \n",
    "    def forward(self, inputs):\n",
    "\n",
    "        #################################################################\n",
    "        # ZDE DOPLNIT\n",
    "        \n",
    "        \n",
    "        \n",
    "        #################################################################\n",
    "\n",
    "        return outputs\n",
    "    \n",
    "    def backward(self, doutputs):\n",
    "        \n",
    "        #################################################################\n",
    "        # ZDE DOPLNIT\n",
    "        # gradient na vstup\n",
    "        \n",
    "        \n",
    "        \n",
    "        #################################################################\n",
    "        \n",
    "        inputs, = self._cache\n",
    "        N, G, U, V = doutputs.shape\n",
    "        _, C, _, _ = self.params['weights'].shape\n",
    "        \n",
    "        # gradient na vahy\n",
    "        dweights = torch.zeros_like(self.params['weights'])\n",
    "        for n in range(N):\n",
    "            for g in range(G):\n",
    "                for c in range(inputs.shape[1]):\n",
    "                    \n",
    "                    #################################################################\n",
    "                    # ZDE DOPLNIT\n",
    "                    \n",
    "                    # doporuceny postup:\n",
    "                    # vzit n-ty vstup, c-ty kanal\n",
    "                    # vzit n-ty prichozi gradient, g-ty kanal\n",
    "                    # provest jejich 2D konvoluci (operandy musi byt 4D)\n",
    "                    #   --> vysledek je 2D (gradient na c-ty kanal g-teho filtru)\n",
    "                    # vysledny gradient pricist (scitani pres batch) na odpovidajici pozici do `dweights` \n",
    "                    \n",
    "                    #################################################################\n",
    "        \n",
    "        return dinputs, {'weights': dweights}"
   ]
  },
  {
   "cell_type": "code",
   "execution_count": null,
   "metadata": {},
   "outputs": [],
   "source": [
    "# pro gradient check je dobre zvysit presnost\n",
    "torch.set_default_dtype(torch.double)"
   ]
  },
  {
   "cell_type": "code",
   "execution_count": null,
   "metadata": {
    "code_folding": []
   },
   "outputs": [],
   "source": [
    "# overime na male davce\n",
    "inputs = torch.randn(4, 3, 8, 8)\n",
    "\n",
    "# \"simulace\" prichoziho gradientu, ktery ma vrstva dale propagovat\n",
    "doutputs = torch.randn(4, 2, 8, 8)\n",
    "\n",
    "# instance vrstvy\n",
    "conv_layer = Conv2D(3, 2, 3)\n",
    "\n",
    "# krok vypoctu numerickeho gradientu nastavime manualne\n",
    "grads, grads_num = ans.check_gradients(conv_layer, inputs, doutputs)"
   ]
  }
 ],
 "metadata": {
  "kernelspec": {
   "display_name": "Python 3",
   "language": "python",
   "name": "python3"
  },
  "language_info": {
   "codemirror_mode": {
    "name": "ipython",
    "version": 3
   },
   "file_extension": ".py",
   "mimetype": "text/x-python",
   "name": "python",
   "nbconvert_exporter": "python",
   "pygments_lexer": "ipython3",
   "version": "3.7.4"
  },
  "varInspector": {
   "cols": {
    "lenName": 16,
    "lenType": 16,
    "lenVar": 40
   },
   "kernels_config": {
    "python": {
     "delete_cmd_postfix": "",
     "delete_cmd_prefix": "del ",
     "library": "var_list.py",
     "varRefreshCmd": "print(var_dic_list())"
    },
    "r": {
     "delete_cmd_postfix": ") ",
     "delete_cmd_prefix": "rm(",
     "library": "var_list.r",
     "varRefreshCmd": "cat(var_dic_list()) "
    }
   },
   "types_to_exclude": [
    "module",
    "function",
    "builtin_function_or_method",
    "instance",
    "_Feature"
   ],
   "window_display": false
  }
 },
 "nbformat": 4,
 "nbformat_minor": 2
}
